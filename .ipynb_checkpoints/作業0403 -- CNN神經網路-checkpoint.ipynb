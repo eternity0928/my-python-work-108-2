{
 "cells": [
  {
   "cell_type": "code",
   "execution_count": 1,
   "metadata": {},
   "outputs": [],
   "source": [
    "%matplotlib inline\n",
    "import numpy as np\n",
    "import pandas as pd\n",
    "import matplotlib.pyplot as plt"
   ]
  },
  {
   "cell_type": "code",
   "execution_count": 2,
   "metadata": {},
   "outputs": [],
   "source": [
    "import tensorflow as tf"
   ]
  },
  {
   "cell_type": "markdown",
   "metadata": {},
   "source": [
    "## 讀入資料庫"
   ]
  },
  {
   "cell_type": "code",
   "execution_count": 3,
   "metadata": {},
   "outputs": [],
   "source": [
    "from tensorflow.keras.datasets import fashion_mnist"
   ]
  },
  {
   "cell_type": "code",
   "execution_count": 4,
   "metadata": {},
   "outputs": [],
   "source": [
    "(x_train, y_train), (x_test, y_test) = fashion_mnist.load_data()"
   ]
  },
  {
   "cell_type": "code",
   "execution_count": 5,
   "metadata": {},
   "outputs": [],
   "source": [
    "class_names = ['T-shirt/top', 'Trouser', 'Pullover', 'Dress', 'Coat', 'Sandal', 'Shirt', 'Sneaker', 'Bag', 'Ankle boot']"
   ]
  },
  {
   "cell_type": "code",
   "execution_count": 6,
   "metadata": {},
   "outputs": [
    {
     "data": {
      "text/plain": [
       "60000"
      ]
     },
     "execution_count": 6,
     "metadata": {},
     "output_type": "execute_result"
    }
   ],
   "source": [
    "len(x_train)"
   ]
  },
  {
   "cell_type": "code",
   "execution_count": 7,
   "metadata": {},
   "outputs": [
    {
     "data": {
      "text/plain": [
       "10000"
      ]
     },
     "execution_count": 7,
     "metadata": {},
     "output_type": "execute_result"
    }
   ],
   "source": [
    "len(x_test)"
   ]
  },
  {
   "cell_type": "markdown",
   "metadata": {},
   "source": [
    "## 資料處理"
   ]
  },
  {
   "cell_type": "code",
   "execution_count": 8,
   "metadata": {},
   "outputs": [],
   "source": [
    "x_train = x_train.reshape(60000, 28, 28, 1)/255"
   ]
  },
  {
   "cell_type": "code",
   "execution_count": 9,
   "metadata": {},
   "outputs": [],
   "source": [
    "x_test = x_test.reshape(10000, 28, 28, 1)/255"
   ]
  },
  {
   "cell_type": "code",
   "execution_count": 10,
   "metadata": {},
   "outputs": [],
   "source": [
    "from tensorflow.keras.utils import to_categorical"
   ]
  },
  {
   "cell_type": "code",
   "execution_count": 11,
   "metadata": {},
   "outputs": [],
   "source": [
    "y_train = to_categorical(y_train, 10)\n",
    "y_test = to_categorical(y_test, 10)"
   ]
  },
  {
   "cell_type": "markdown",
   "metadata": {},
   "source": [
    "### 讀入必要函式"
   ]
  },
  {
   "cell_type": "code",
   "execution_count": 12,
   "metadata": {},
   "outputs": [],
   "source": [
    "from tensorflow.keras.models import Sequential\n",
    "from tensorflow.keras.layers import Conv2D, MaxPooling2D\n",
    "from tensorflow.keras.layers import Dense, Flatten\n",
    "from tensorflow.keras.optimizers import SGD"
   ]
  },
  {
   "cell_type": "markdown",
   "metadata": {},
   "source": [
    "## 1.打造神經網路"
   ]
  },
  {
   "cell_type": "code",
   "execution_count": 13,
   "metadata": {},
   "outputs": [],
   "source": [
    "model = Sequential()    ## 開函數學習機"
   ]
  },
  {
   "cell_type": "code",
   "execution_count": 14,
   "metadata": {},
   "outputs": [],
   "source": [
    "model.add (Conv2D(32, (3,3), padding='same',              ## Conv2D後面的是filter層的層數 通常是2的次方,其後通常會倍增\n",
    "                 input_shape=(28,28,1),                   ## (3,3)是filter的大小  filter他自己會學來\n",
    "                 activation='relu'))"
   ]
  },
  {
   "cell_type": "code",
   "execution_count": 15,
   "metadata": {},
   "outputs": [],
   "source": [
    "model.add(MaxPooling2D(pool_size=(2,2)))"
   ]
  },
  {
   "cell_type": "code",
   "execution_count": 16,
   "metadata": {},
   "outputs": [],
   "source": [
    "model.add(Conv2D(64, (3,3), padding='same',\n",
    "                activation = 'relu'))"
   ]
  },
  {
   "cell_type": "code",
   "execution_count": 17,
   "metadata": {},
   "outputs": [],
   "source": [
    "model.add(MaxPooling2D(pool_size=(2,2)))"
   ]
  },
  {
   "cell_type": "code",
   "execution_count": 18,
   "metadata": {},
   "outputs": [],
   "source": [
    "model.add(Conv2D(128, (3,3), padding='same',\n",
    "                activation = 'relu'))"
   ]
  },
  {
   "cell_type": "code",
   "execution_count": 19,
   "metadata": {},
   "outputs": [],
   "source": [
    "model.add(MaxPooling2D(pool_size=(2,2)))"
   ]
  },
  {
   "cell_type": "code",
   "execution_count": 20,
   "metadata": {},
   "outputs": [],
   "source": [
    "model.add(Flatten())"
   ]
  },
  {
   "cell_type": "code",
   "execution_count": 21,
   "metadata": {},
   "outputs": [],
   "source": [
    "model.add(Dense(80, activation='relu'))     ## 神經元數目數量隨便決定"
   ]
  },
  {
   "cell_type": "code",
   "execution_count": 22,
   "metadata": {},
   "outputs": [],
   "source": [
    "model.add(Dense(10, activation='softmax'))  ## 輸入和輸出不能改"
   ]
  },
  {
   "cell_type": "code",
   "execution_count": 23,
   "metadata": {},
   "outputs": [
    {
     "name": "stdout",
     "output_type": "stream",
     "text": [
      "Model: \"sequential\"\n",
      "_________________________________________________________________\n",
      "Layer (type)                 Output Shape              Param #   \n",
      "=================================================================\n",
      "conv2d (Conv2D)              (None, 28, 28, 32)        320       \n",
      "_________________________________________________________________\n",
      "max_pooling2d (MaxPooling2D) (None, 14, 14, 32)        0         \n",
      "_________________________________________________________________\n",
      "conv2d_1 (Conv2D)            (None, 14, 14, 64)        18496     \n",
      "_________________________________________________________________\n",
      "max_pooling2d_1 (MaxPooling2 (None, 7, 7, 64)          0         \n",
      "_________________________________________________________________\n",
      "conv2d_2 (Conv2D)            (None, 7, 7, 128)         73856     \n",
      "_________________________________________________________________\n",
      "max_pooling2d_2 (MaxPooling2 (None, 3, 3, 128)         0         \n",
      "_________________________________________________________________\n",
      "flatten (Flatten)            (None, 1152)              0         \n",
      "_________________________________________________________________\n",
      "dense (Dense)                (None, 80)                92240     \n",
      "_________________________________________________________________\n",
      "dense_1 (Dense)              (None, 10)                810       \n",
      "=================================================================\n",
      "Total params: 185,722\n",
      "Trainable params: 185,722\n",
      "Non-trainable params: 0\n",
      "_________________________________________________________________\n"
     ]
    }
   ],
   "source": [
    "model.summary()"
   ]
  },
  {
   "cell_type": "markdown",
   "metadata": {},
   "source": [
    "### loss function選不一樣 速度會不一樣準確率也會不一樣  這次選用了MAE"
   ]
  },
  {
   "cell_type": "code",
   "execution_count": 24,
   "metadata": {},
   "outputs": [],
   "source": [
    "model.compile(loss='mae', optimizer=SGD(lr=0.095),             \n",
    "             metrics = ['accuracy'])"
   ]
  },
  {
   "cell_type": "markdown",
   "metadata": {},
   "source": [
    "## 2. FIT"
   ]
  },
  {
   "cell_type": "code",
   "execution_count": 25,
   "metadata": {},
   "outputs": [
    {
     "name": "stdout",
     "output_type": "stream",
     "text": [
      "Train on 60000 samples\n",
      "Epoch 1/15\n",
      "60000/60000 [==============================] - 99s 2ms/sample - loss: 0.1791 - accuracy: 0.1711\n",
      "Epoch 2/15\n",
      "60000/60000 [==============================] - 100s 2ms/sample - loss: 0.1474 - accuracy: 0.4006\n",
      "Epoch 3/15\n",
      "60000/60000 [==============================] - 101s 2ms/sample - loss: 0.0877 - accuracy: 0.5770\n",
      "Epoch 4/15\n",
      "60000/60000 [==============================] - 103s 2ms/sample - loss: 0.0844 - accuracy: 0.5839\n",
      "Epoch 5/15\n",
      "60000/60000 [==============================] - 103s 2ms/sample - loss: 0.0831 - accuracy: 0.58992s - loss:\n",
      "Epoch 6/15\n",
      "60000/60000 [==============================] - 102s 2ms/sample - loss: 0.0824 - accuracy: 0.5923\n",
      "Epoch 7/15\n",
      "60000/60000 [==============================] - 103s 2ms/sample - loss: 0.0817 - accuracy: 0.5947 - loss: 0.0818  - ETA: 0s - loss: 0.0817 - accuracy: 0.\n",
      "Epoch 8/15\n",
      "60000/60000 [==============================] - 103s 2ms/sample - loss: 0.0812 - accuracy: 0.5968\n",
      "Epoch 9/15\n",
      "60000/60000 [==============================] - 106s 2ms/sample - loss: 0.0807 - accuracy: 0.5991\n",
      "Epoch 10/15\n",
      "60000/60000 [==============================] - 103s 2ms/sample - loss: 0.0803 - accuracy: 0.6015\n",
      "Epoch 11/15\n",
      "60000/60000 [==============================] - 102s 2ms/sample - loss: 0.0799 - accuracy: 0.6031\n",
      "Epoch 12/15\n",
      "60000/60000 [==============================] - 96s 2ms/sample - loss: 0.0795 - accuracy: 0.6056\n",
      "Epoch 13/15\n",
      "60000/60000 [==============================] - 100s 2ms/sample - loss: 0.0792 - accuracy: 0.6069\n",
      "Epoch 14/15\n",
      "60000/60000 [==============================] - 93s 2ms/sample - loss: 0.0788 - accuracy: 0.6090s - loss: 0.0788 - accuracy: \n",
      "Epoch 15/15\n",
      "60000/60000 [==============================] - 94s 2ms/sample - loss: 0.0785 - accuracy: 0.6100- ETA: 0s - loss: 0.0786 - accu\n"
     ]
    },
    {
     "data": {
      "text/plain": [
       "<tensorflow.python.keras.callbacks.History at 0x1587a5cb278>"
      ]
     },
     "execution_count": 25,
     "metadata": {},
     "output_type": "execute_result"
    }
   ],
   "source": [
    "model.fit(x_train, y_train, batch_size = 100, epochs = 15)"
   ]
  },
  {
   "cell_type": "markdown",
   "metadata": {},
   "source": [
    "## 3.預測"
   ]
  },
  {
   "cell_type": "code",
   "execution_count": 26,
   "metadata": {},
   "outputs": [],
   "source": [
    "result = model.predict_classes(x_test)"
   ]
  },
  {
   "cell_type": "code",
   "execution_count": 31,
   "metadata": {},
   "outputs": [],
   "source": [
    "def my_predict(n):\n",
    "    print(\"我可愛的CNN預測是\", class_names[result[n]])\n",
    "    X = x_test[n].reshape(28, 28)\n",
    "    plt.imshow(X, cmap='Greys')"
   ]
  },
  {
   "cell_type": "code",
   "execution_count": 32,
   "metadata": {},
   "outputs": [
    {
     "name": "stdout",
     "output_type": "stream",
     "text": [
      "我可愛的CNN預測是 Shirt\n"
     ]
    },
    {
     "data": {
      "image/png": "[encoded data removed]",
      "text/plain": [
       "<Figure size 432x288 with 1 Axes>"
      ]
     },
     "metadata": {
      "needs_background": "light"
     },
     "output_type": "display_data"
    }
   ],
   "source": [
    "my_predict(25)"
   ]
  },
  {
   "cell_type": "code",
   "execution_count": 33,
   "metadata": {},
   "outputs": [],
   "source": [
    "from ipywidgets import interact_manual"
   ]
  },
  {
   "cell_type": "code",
   "execution_count": 34,
   "metadata": {},
   "outputs": [
    {
     "data": {
      "application/vnd.jupyter.widget-view+json": {
       "model_id": "6243e629890148ae9076083c8ff3a971",
       "version_major": 2,
       "version_minor": 0
      },
      "text/plain": [
       "interactive(children=(IntSlider(value=4999, description='n', max=9999), Button(description='Run Interact', sty…"
      ]
     },
     "metadata": {},
     "output_type": "display_data"
    },
    {
     "data": {
      "text/plain": [
       "<function __main__.my_predict(n)>"
      ]
     },
     "execution_count": 34,
     "metadata": {},
     "output_type": "execute_result"
    }
   ],
   "source": [
    "interact_manual(my_predict, n =(0,9999))"
   ]
  },
  {
   "cell_type": "code",
   "execution_count": 35,
   "metadata": {},
   "outputs": [
    {
     "name": "stdout",
     "output_type": "stream",
     "text": [
      "10000/10000 [==============================] - 7s 733us/sample - loss: 0.0803 - accuracy: 0.6014\n"
     ]
    }
   ],
   "source": [
    "score = model.evaluate(x_test, y_test)"
   ]
  },
  {
   "cell_type": "code",
   "execution_count": 36,
   "metadata": {},
   "outputs": [],
   "source": [
    "loss, acc = score"
   ]
  },
  {
   "cell_type": "code",
   "execution_count": 40,
   "metadata": {},
   "outputs": [
    {
     "name": "stdout",
     "output_type": "stream",
     "text": [
      "測試資料正確率 60.14 %\n"
     ]
    }
   ],
   "source": [
    "print(\"測試資料正確率\", round((acc*100),3) ,\"%\")"
   ]
  },
  {
   "cell_type": "markdown",
   "metadata": {},
   "source": [
    "### 他辛辛苦苦地跑了30分鐘,結果準確率卻只有60%左右,為什麼呢?    \n",
    "#### 在這邊我修改的參數有將損失函數改成MAE,並且提高filter的層數(因此讓訓練的所需時間大幅上升) \n",
    "#### 因此我打算改用老師上課原本使用的參數和損失函數為MSE的方式再試一次\n"
   ]
  },
  {
   "cell_type": "code",
   "execution_count": null,
   "metadata": {},
   "outputs": [],
   "source": []
  },
  {
   "cell_type": "code",
   "execution_count": null,
   "metadata": {},
   "outputs": [],
   "source": []
  },
  {
   "cell_type": "markdown",
   "metadata": {},
   "source": [
    "## Model_2的測試"
   ]
  },
  {
   "cell_type": "code",
   "execution_count": 42,
   "metadata": {},
   "outputs": [
    {
     "name": "stdout",
     "output_type": "stream",
     "text": [
      "Model: \"sequential_2\"\n",
      "_________________________________________________________________\n",
      "Layer (type)                 Output Shape              Param #   \n",
      "=================================================================\n",
      "conv2d_3 (Conv2D)            (None, 28, 28, 16)        160       \n",
      "_________________________________________________________________\n",
      "max_pooling2d_3 (MaxPooling2 (None, 14, 14, 16)        0         \n",
      "_________________________________________________________________\n",
      "conv2d_4 (Conv2D)            (None, 14, 14, 32)        4640      \n",
      "_________________________________________________________________\n",
      "max_pooling2d_4 (MaxPooling2 (None, 7, 7, 32)          0         \n",
      "_________________________________________________________________\n",
      "conv2d_5 (Conv2D)            (None, 7, 7, 64)          18496     \n",
      "_________________________________________________________________\n",
      "max_pooling2d_5 (MaxPooling2 (None, 3, 3, 64)          0         \n",
      "_________________________________________________________________\n",
      "flatten_1 (Flatten)          (None, 576)               0         \n",
      "_________________________________________________________________\n",
      "dense_2 (Dense)              (None, 80)                46160     \n",
      "_________________________________________________________________\n",
      "dense_3 (Dense)              (None, 10)                810       \n",
      "=================================================================\n",
      "Total params: 70,266\n",
      "Trainable params: 70,266\n",
      "Non-trainable params: 0\n",
      "_________________________________________________________________\n"
     ]
    }
   ],
   "source": [
    "model_2 = Sequential()\n",
    "\n",
    "model_2.add (Conv2D(16, (3,3), padding='same',             \n",
    "                 input_shape=(28,28,1),                   \n",
    "                 activation='relu'))\n",
    "model_2.add(MaxPooling2D(pool_size=(2,2)))\n",
    "\n",
    "model_2.add (Conv2D(32, (3,3), padding='same',             \n",
    "                 input_shape=(28,28,1),                   \n",
    "                 activation='relu'))\n",
    "model_2.add(MaxPooling2D(pool_size=(2,2)))\n",
    "\n",
    "model_2.add (Conv2D(64, (3,3), padding='same',             \n",
    "                 input_shape=(28,28,1),                   \n",
    "                 activation='relu'))\n",
    "model_2.add(MaxPooling2D(pool_size=(2,2)))\n",
    "\n",
    "model_2.add(Flatten())\n",
    "model_2.add(Dense(80, activation='relu'))     \n",
    "model_2.add(Dense(10, activation='softmax'))     \n",
    "\n",
    "model_2.summary()"
   ]
  },
  {
   "cell_type": "code",
   "execution_count": 47,
   "metadata": {},
   "outputs": [],
   "source": [
    "model_2.compile(loss='mse', optimizer=SGD(lr=0.095),             \n",
    "             metrics = ['accuracy'])"
   ]
  },
  {
   "cell_type": "code",
   "execution_count": 48,
   "metadata": {},
   "outputs": [
    {
     "name": "stdout",
     "output_type": "stream",
     "text": [
      "Train on 60000 samples\n",
      "Epoch 1/15\n",
      "60000/60000 [==============================] - 52s 862us/sample - loss: 0.0897 - accuracy: 0.2154\n",
      "Epoch 2/15\n",
      "60000/60000 [==============================] - 49s 822us/sample - loss: 0.0884 - accuracy: 0.4296\n",
      "Epoch 3/15\n",
      "60000/60000 [==============================] - 49s 809us/sample - loss: 0.0700 - accuracy: 0.5357\n",
      "Epoch 4/15\n",
      "60000/60000 [==============================] - 50s 837us/sample - loss: 0.0399 - accuracy: 0.7112\n",
      "Epoch 5/15\n",
      "60000/60000 [==============================] - 49s 809us/sample - loss: 0.0341 - accuracy: 0.7581\n",
      "Epoch 6/15\n",
      "60000/60000 [==============================] - 48s 806us/sample - loss: 0.0310 - accuracy: 0.7818\n",
      "Epoch 7/15\n",
      "60000/60000 [==============================] - 46s 766us/sample - loss: 0.0289 - accuracy: 0.7974- loss: 0.0289 - accuracy: \n",
      "Epoch 8/15\n",
      "60000/60000 [==============================] - 46s 770us/sample - loss: 0.0273 - accuracy: 0.8102\n",
      "Epoch 9/15\n",
      "60000/60000 [==============================] - 47s 781us/sample - loss: 0.0260 - accuracy: 0.8198- loss: 0.0260 - accuracy\n",
      "Epoch 10/15\n",
      "60000/60000 [==============================] - 47s 777us/sample - loss: 0.0249 - accuracy: 0.8258\n",
      "Epoch 11/15\n",
      "60000/60000 [==============================] - 45s 743us/sample - loss: 0.0239 - accuracy: 0.8347\n",
      "Epoch 12/15\n",
      "60000/60000 [==============================] - 44s 729us/sample - loss: 0.0231 - accuracy: 0.8413\n",
      "Epoch 13/15\n",
      "60000/60000 [==============================] - 46s 763us/sample - loss: 0.0223 - accuracy: 0.8459- loss: 0.0224 - accura - ETA: 0s - loss: 0.0223 - accuracy: \n",
      "Epoch 14/15\n",
      "60000/60000 [==============================] - 45s 748us/sample - loss: 0.0216 - accuracy: 0.8506\n",
      "Epoch 15/15\n",
      "60000/60000 [==============================] - 45s 749us/sample - loss: 0.0211 - accuracy: 0.8546\n"
     ]
    },
    {
     "data": {
      "text/plain": [
       "<tensorflow.python.keras.callbacks.History at 0x1587a626fd0>"
      ]
     },
     "execution_count": 48,
     "metadata": {},
     "output_type": "execute_result"
    }
   ],
   "source": [
    "model_2.fit(x_train, y_train, batch_size = 100, epochs = 15)"
   ]
  },
  {
   "cell_type": "code",
   "execution_count": 49,
   "metadata": {},
   "outputs": [
    {
     "data": {
      "application/vnd.jupyter.widget-view+json": {
       "model_id": "12f53ddbe7d642b8a277d1651cf779e8",
       "version_major": 2,
       "version_minor": 0
      },
      "text/plain": [
       "interactive(children=(IntSlider(value=4999, description='n', max=9999), Button(description='Run Interact', sty…"
      ]
     },
     "metadata": {},
     "output_type": "display_data"
    },
    {
     "data": {
      "text/plain": [
       "<function __main__.my_predict2(n)>"
      ]
     },
     "execution_count": 49,
     "metadata": {},
     "output_type": "execute_result"
    }
   ],
   "source": [
    "result_2 = model_2.predict_classes(x_test)\n",
    "\n",
    "def my_predict2(n):\n",
    "    print(\"我可愛的CNN預測是\", class_names[result_2[n]])\n",
    "    X = x_test[n].reshape(28, 28)\n",
    "    plt.imshow(X, cmap='Greys')\n",
    "    \n",
    "interact_manual(my_predict2, n =(0,9999))"
   ]
  },
  {
   "cell_type": "code",
   "execution_count": 50,
   "metadata": {},
   "outputs": [
    {
     "name": "stdout",
     "output_type": "stream",
     "text": [
      "10000/10000 [==============================] - 3s 257us/sample - loss: 0.0215 - accuracy: 0.8550\n",
      "測試資料正確率 85.5 %\n"
     ]
    }
   ],
   "source": [
    "score_2 = model_2.evaluate(x_test, y_test)\n",
    "loss, acc_2 = score_2\n",
    "print(\"測試資料正確率\", round((acc_2*100),3) ,\"%\")"
   ]
  },
  {
   "cell_type": "markdown",
   "metadata": {},
   "source": [
    "## Model_2的訓練成果：損失函數使用MSE,並使filter層數減少(不然真的跑太久了)的情況下, <br/> 準確率則達到 85.5 %  \n",
    "### 兩個model的準確率有如此大的差異主要是因為loss function的不同嗎?"
   ]
  },
  {
   "cell_type": "code",
   "execution_count": null,
   "metadata": {},
   "outputs": [],
   "source": []
  },
  {
   "cell_type": "code",
   "execution_count": null,
   "metadata": {},
   "outputs": [],
   "source": []
  }
 ],
 "metadata": {
  "kernelspec": {
   "display_name": "Python 3",
   "language": "python",
   "name": "python3"
  },
  "language_info": {
   "codemirror_mode": {
    "name": "ipython",
    "version": 3
   },
   "file_extension": ".py",
   "mimetype": "text/x-python",
   "name": "python",
   "nbconvert_exporter": "python",
   "pygments_lexer": "ipython3",
   "version": "3.7.3"
  }
 },
 "nbformat": 4,
 "nbformat_minor": 2
}
