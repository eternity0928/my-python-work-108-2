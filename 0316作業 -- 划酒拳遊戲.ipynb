{
 "cells": [
  {
   "cell_type": "code",
   "execution_count": 1,
   "metadata": {},
   "outputs": [],
   "source": [
    "%matplotlib inline\n",
    "import numpy as np\n",
    "import pandas as pd\n",
    "import matplotlib.pyplot as plt"
   ]
  },
  {
   "cell_type": "markdown",
   "metadata": {},
   "source": [
    "# Drinking game 數字拳"
   ]
  },
  {
   "cell_type": "code",
   "execution_count": 2,
   "metadata": {},
   "outputs": [],
   "source": [
    "from ipywidgets import interact_manual\n",
    "from ipywidgets import interact"
   ]
  },
  {
   "cell_type": "code",
   "execution_count": 3,
   "metadata": {},
   "outputs": [],
   "source": [
    "My = [\"0\", \"5\", \"10\"]\n",
    "cpu = [\"0\",\"5\",\"10\"]\n",
    "guess = [\"0\",\"5\",\"10\",\"15\",\"20\"]"
   ]
  },
  {
   "cell_type": "code",
   "execution_count": 4,
   "metadata": {},
   "outputs": [
    {
     "name": "stdout",
     "output_type": "stream",
     "text": [
      "輸入0、5或10：5\n"
     ]
    }
   ],
   "source": [
    "my = input(\"輸入0、5或10：\")"
   ]
  },
  {
   "cell_type": "code",
   "execution_count": 5,
   "metadata": {},
   "outputs": [],
   "source": [
    "from numpy import random\n",
    "from numpy.random import choice"
   ]
  },
  {
   "cell_type": "code",
   "execution_count": 6,
   "metadata": {},
   "outputs": [],
   "source": [
    "play = choice(cpu, 1)"
   ]
  },
  {
   "cell_type": "code",
   "execution_count": 7,
   "metadata": {},
   "outputs": [],
   "source": [
    "# 猜"
   ]
  },
  {
   "cell_type": "code",
   "execution_count": 8,
   "metadata": {},
   "outputs": [
    {
     "name": "stdout",
     "output_type": "stream",
     "text": [
      "這回合我喊的數字(請輸入0、5、10、15或20)：10\n"
     ]
    }
   ],
   "source": [
    "my_guess = input(\"這回合我喊的數字(請輸入0、5、10、15或20)：\" )"
   ]
  },
  {
   "cell_type": "code",
   "execution_count": 9,
   "metadata": {},
   "outputs": [],
   "source": [
    "cpu_guess = choice(guess, 1)"
   ]
  },
  {
   "cell_type": "markdown",
   "metadata": {},
   "source": [
    "## 合起來"
   ]
  },
  {
   "cell_type": "code",
   "execution_count": 10,
   "metadata": {},
   "outputs": [],
   "source": [
    "def DG():\n",
    "    win = 0\n",
    "    lose = 0\n",
    "    while win < 1 and lose < 1:                    ##看玩家先喊到還是電腦先喊到\n",
    "        \n",
    "    ##玩家\n",
    "        my = input(\"我出的數字是：\")               ##(輸入0、5或10)\n",
    "        my_guess = input(\"這回合我喊的數字：\" )    ##(請輸入0、5、10、15或20)\n",
    "        play = choice(cpu, 1)\n",
    "        \n",
    "        if (int(my) + int(play) == int(my_guess) ):\n",
    "            print(\"你贏了\")\n",
    "            print(\"電腦出的是\" + str(play))\n",
    "            win = win+1\n",
    "            print(\"你現在\"+ str(win)+\"勝\"+str(lose)+\"敗\" )\n",
    "            if win == 1:\n",
    "                print(\"遊戲結束\")\n",
    "                break\n",
    "        else:\n",
    "            print(\"電腦出的是\" + str(play))\n",
    "            print(\"你沒猜對,換電腦喊\")\n",
    "            print(\"你現在\"+ str(win)+\"勝\"+str(lose)+\"敗\" )\n",
    "            \n",
    "    ##換電腦\n",
    "        my = input(\"我出的數字是：\")\n",
    "        play = choice(cpu, 1)\n",
    "        cpu_guess = choice(guess, 1)\n",
    "        \n",
    "        if (int(my) + int(play) == int(cpu_guess) ):\n",
    "            print(\"你輸了\")\n",
    "            print(\"電腦出的是\" + str(play))\n",
    "            lose = lose+1\n",
    "            print(\"你現在\"+ str(win)+\"勝\"+str(lose)+\"敗\" )\n",
    "        else:\n",
    "            print(\"電腦出的是\" + str(play) + \",電腦猜的是\"+str(cpu_guess))\n",
    "            print(\"電腦沒猜對,換你喊\")\n",
    "            print(\"你現在\"+ str(win)+\"勝\"+str(lose)+\"敗\" )\n",
    "            \n",
    "    else:\n",
    "        print(\"遊戲結束\")"
   ]
  },
  {
   "cell_type": "code",
   "execution_count": 11,
   "metadata": {},
   "outputs": [
    {
     "name": "stdout",
     "output_type": "stream",
     "text": [
      "我出的數字是：0\n",
      "這回合我喊的數字：5\n",
      "電腦出的是['10']\n",
      "你沒猜對,換電腦喊\n",
      "你現在0勝0敗\n",
      "我出的數字是：5\n",
      "電腦出的是['0'],電腦猜的是['10']\n",
      "電腦沒猜對,換你喊\n",
      "你現在0勝0敗\n",
      "我出的數字是：10\n",
      "這回合我喊的數字：5\n",
      "電腦出的是['0']\n",
      "你沒猜對,換電腦喊\n",
      "你現在0勝0敗\n",
      "我出的數字是：5\n",
      "電腦出的是['0'],電腦猜的是['20']\n",
      "電腦沒猜對,換你喊\n",
      "你現在0勝0敗\n",
      "我出的數字是：10\n",
      "這回合我喊的數字：15\n",
      "電腦出的是['10']\n",
      "你沒猜對,換電腦喊\n",
      "你現在0勝0敗\n",
      "我出的數字是：5\n",
      "你輸了\n",
      "電腦出的是['10']\n",
      "你現在0勝1敗\n",
      "遊戲結束\n"
     ]
    }
   ],
   "source": [
    "DG()"
   ]
  },
  {
   "cell_type": "markdown",
   "metadata": {},
   "source": [
    "## Bugs&附註:\n",
    "## 1.電腦有可能猜一個比自己出的還要更小的數字\n",
    "## 2.輸入可以不是5的倍數\n",
    "## 3.可能可以寫得更簡短一些"
   ]
  }
 ],
 "metadata": {
  "kernelspec": {
   "display_name": "Python 3",
   "language": "python",
   "name": "python3"
  },
  "language_info": {
   "codemirror_mode": {
    "name": "ipython",
    "version": 3
   },
   "file_extension": ".py",
   "mimetype": "text/x-python",
   "name": "python",
   "nbconvert_exporter": "python",
   "pygments_lexer": "ipython3",
   "version": "3.7.3"
  }
 },
 "nbformat": 4,
 "nbformat_minor": 2
}
