{
 "cells": [
  {
   "cell_type": "code",
   "execution_count": 1,
   "metadata": {},
   "outputs": [],
   "source": [
    "%matplotlib inline \n",
    "import numpy as np\n",
    "import pandas as pd\n",
    "import matplotlib.pyplot as plt"
   ]
  },
  {
   "cell_type": "code",
   "execution_count": 2,
   "metadata": {},
   "outputs": [],
   "source": [
    "from random import choice"
   ]
  },
  {
   "cell_type": "code",
   "execution_count": 3,
   "metadata": {},
   "outputs": [],
   "source": [
    "food = \"波波恰恰 湯饌 私房麵 my麵屋 菁英自助餐 咖哩飯 提洛斯 左撇子 四川 健滷 八方雲集 麥當勞 摩斯 肯德基 subway 義大利麵 高句麗 東京小城 朴媽媽 韓大老 樂山 甘泉魚麵 黑店 白店 四五大街 餐研社 重慶酸辣粉 大汗 鬼匠 豚匠 \""
   ]
  },
  {
   "cell_type": "code",
   "execution_count": 4,
   "metadata": {},
   "outputs": [
    {
     "data": {
      "text/plain": [
       "'波波恰恰 湯饌 私房麵 my麵屋 菁英自助餐 咖哩飯 提洛斯 左撇子 四川 健滷 八方雲集 麥當勞 摩斯 肯德基 subway 義大利麵 高句麗 東京小城 朴媽媽 韓大老 樂山 甘泉魚麵 黑店 白店 四五大街 餐研社 重慶酸辣粉 大汗 鬼匠 豚匠 '"
      ]
     },
     "execution_count": 4,
     "metadata": {},
     "output_type": "execute_result"
    }
   ],
   "source": [
    "food"
   ]
  },
  {
   "cell_type": "code",
   "execution_count": 5,
   "metadata": {},
   "outputs": [],
   "source": [
    "nccufood = food.split()"
   ]
  },
  {
   "cell_type": "code",
   "execution_count": 6,
   "metadata": {},
   "outputs": [],
   "source": [
    "nccufood = np.array(nccufood)"
   ]
  },
  {
   "cell_type": "code",
   "execution_count": 7,
   "metadata": {},
   "outputs": [
    {
     "data": {
      "text/plain": [
       "array(['波波恰恰', '湯饌', '私房麵', 'my麵屋', '菁英自助餐', '咖哩飯', '提洛斯', '左撇子', '四川',\n",
       "       '健滷', '八方雲集', '麥當勞', '摩斯', '肯德基', 'subway', '義大利麵', '高句麗', '東京小城',\n",
       "       '朴媽媽', '韓大老', '樂山', '甘泉魚麵', '黑店', '白店', '四五大街', '餐研社', '重慶酸辣粉',\n",
       "       '大汗', '鬼匠', '豚匠'], dtype='<U6')"
      ]
     },
     "execution_count": 7,
     "metadata": {},
     "output_type": "execute_result"
    }
   ],
   "source": [
    "nccufood"
   ]
  },
  {
   "cell_type": "code",
   "execution_count": 8,
   "metadata": {},
   "outputs": [],
   "source": [
    "pick = choice(nccufood)"
   ]
  },
  {
   "cell_type": "code",
   "execution_count": 9,
   "metadata": {},
   "outputs": [
    {
     "data": {
      "text/plain": [
       "'餐研社'"
      ]
     },
     "execution_count": 9,
     "metadata": {},
     "output_type": "execute_result"
    }
   ],
   "source": [
    "pick"
   ]
  },
  {
   "cell_type": "code",
   "execution_count": null,
   "metadata": {},
   "outputs": [],
   "source": []
  },
  {
   "cell_type": "code",
   "execution_count": null,
   "metadata": {},
   "outputs": [],
   "source": []
  }
 ],
 "metadata": {
  "kernelspec": {
   "display_name": "Python 3",
   "language": "python",
   "name": "python3"
  },
  "language_info": {
   "codemirror_mode": {
    "name": "ipython",
    "version": 3
   },
   "file_extension": ".py",
   "mimetype": "text/x-python",
   "name": "python",
   "nbconvert_exporter": "python",
   "pygments_lexer": "ipython3",
   "version": "3.7.3"
  }
 },
 "nbformat": 4,
 "nbformat_minor": 2
}
