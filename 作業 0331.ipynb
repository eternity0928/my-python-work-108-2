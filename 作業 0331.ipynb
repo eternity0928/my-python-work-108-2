{
 "cells": [
  {
   "cell_type": "code",
   "execution_count": 1,
   "metadata": {},
   "outputs": [],
   "source": [
    "%matplotlib inline\n",
    "import numpy as np\n",
    "import pandas as pd\n",
    "import matplotlib.pyplot as plt"
   ]
  },
  {
   "cell_type": "code",
   "execution_count": 2,
   "metadata": {},
   "outputs": [],
   "source": [
    "import tensorflow as tf"
   ]
  },
  {
   "cell_type": "markdown",
   "metadata": {},
   "source": [
    "## 讀入資料集"
   ]
  },
  {
   "cell_type": "code",
   "execution_count": 3,
   "metadata": {},
   "outputs": [],
   "source": [
    "from tensorflow.keras.datasets import fashion_mnist"
   ]
  },
  {
   "cell_type": "code",
   "execution_count": 4,
   "metadata": {},
   "outputs": [],
   "source": [
    "(x_train, y_train), (x_test, y_test) = fashion_mnist.load_data()"
   ]
  },
  {
   "cell_type": "markdown",
   "metadata": {},
   "source": [
    "### 看一下數據的內容"
   ]
  },
  {
   "cell_type": "code",
   "execution_count": 5,
   "metadata": {},
   "outputs": [
    {
     "data": {
      "text/plain": [
       "60000"
      ]
     },
     "execution_count": 5,
     "metadata": {},
     "output_type": "execute_result"
    }
   ],
   "source": [
    "len(x_train)"
   ]
  },
  {
   "cell_type": "code",
   "execution_count": 6,
   "metadata": {},
   "outputs": [
    {
     "data": {
      "text/plain": [
       "10000"
      ]
     },
     "execution_count": 6,
     "metadata": {},
     "output_type": "execute_result"
    }
   ],
   "source": [
    "len(x_test)"
   ]
  },
  {
   "cell_type": "code",
   "execution_count": 7,
   "metadata": {},
   "outputs": [],
   "source": [
    "class_names = ['T-shirt/top', 'Trouser', 'Pullover', 'Dress', 'Coat', 'Sandal', 'Shirt', 'Sneaker', 'Bag', 'Ankle boot']"
   ]
  },
  {
   "cell_type": "code",
   "execution_count": 8,
   "metadata": {},
   "outputs": [
    {
     "name": "stdout",
     "output_type": "stream",
     "text": [
      "這個時尚單品是Bag\n"
     ]
    },
    {
     "data": {
      "text/plain": [
       "<matplotlib.image.AxesImage at 0x18313b050b8>"
      ]
     },
     "execution_count": 8,
     "metadata": {},
     "output_type": "execute_result"
    },
    {
     "data": {
      "image/png": "[encoded data removed]",
      "text/plain": [
       "<Figure size 432x288 with 1 Axes>"
      ]
     },
     "metadata": {
      "needs_background": "light"
     },
     "output_type": "display_data"
    }
   ],
   "source": [
    "n = 100\n",
    "\n",
    "print(\"這個時尚單品是\" + class_names[y_train[n]])\n",
    "plt.imshow(x_train[n], cmap='Greys')"
   ]
  },
  {
   "cell_type": "markdown",
   "metadata": {},
   "source": [
    "## 資料整理"
   ]
  },
  {
   "cell_type": "code",
   "execution_count": 9,
   "metadata": {},
   "outputs": [],
   "source": [
    "x_train = x_train/255\n",
    "x_test = x_test/255"
   ]
  },
  {
   "cell_type": "code",
   "execution_count": 10,
   "metadata": {},
   "outputs": [
    {
     "data": {
      "text/plain": [
       "(60000, 28, 28)"
      ]
     },
     "execution_count": 10,
     "metadata": {},
     "output_type": "execute_result"
    }
   ],
   "source": [
    "x_train.shape"
   ]
  },
  {
   "cell_type": "code",
   "execution_count": 11,
   "metadata": {},
   "outputs": [],
   "source": [
    "x_train = x_train.reshape(len(x_train), 784)"
   ]
  },
  {
   "cell_type": "code",
   "execution_count": 12,
   "metadata": {},
   "outputs": [],
   "source": [
    "x_test = x_test.reshape(len(x_test), 784)"
   ]
  },
  {
   "cell_type": "code",
   "execution_count": 13,
   "metadata": {},
   "outputs": [],
   "source": [
    "from tensorflow.keras.utils import to_categorical"
   ]
  },
  {
   "cell_type": "code",
   "execution_count": 14,
   "metadata": {},
   "outputs": [],
   "source": [
    "y_train = to_categorical(y_train, 10)"
   ]
  },
  {
   "cell_type": "code",
   "execution_count": 15,
   "metadata": {},
   "outputs": [],
   "source": [
    "y_test = to_categorical(y_test, 10)"
   ]
  },
  {
   "cell_type": "markdown",
   "metadata": {},
   "source": [
    "## 打造神經網路"
   ]
  },
  {
   "cell_type": "code",
   "execution_count": 16,
   "metadata": {},
   "outputs": [],
   "source": [
    "from tensorflow.keras.models import Sequential\n",
    "from tensorflow.keras.layers import Dense\n",
    "from tensorflow.keras.optimizers import SGD"
   ]
  },
  {
   "cell_type": "code",
   "execution_count": 17,
   "metadata": {},
   "outputs": [],
   "source": [
    "model = Sequential()"
   ]
  },
  {
   "cell_type": "code",
   "execution_count": 18,
   "metadata": {},
   "outputs": [],
   "source": [
    "model.add(Dense(99,input_dim = 784, activation='relu'))"
   ]
  },
  {
   "cell_type": "code",
   "execution_count": 19,
   "metadata": {},
   "outputs": [],
   "source": [
    "model.add(Dense(99, activation='relu'))"
   ]
  },
  {
   "cell_type": "code",
   "execution_count": 20,
   "metadata": {},
   "outputs": [],
   "source": [
    "model.add(Dense(10, activation='softmax')) ##最後加起來是1"
   ]
  },
  {
   "cell_type": "markdown",
   "metadata": {},
   "source": [
    "## 組裝神經網路"
   ]
  },
  {
   "cell_type": "code",
   "execution_count": 21,
   "metadata": {},
   "outputs": [],
   "source": [
    "model.compile(loss='mse', optimizer = SGD(lr=0.099), metrics =['accuracy'] )   ##lr = learning rate "
   ]
  },
  {
   "cell_type": "code",
   "execution_count": 22,
   "metadata": {},
   "outputs": [
    {
     "name": "stdout",
     "output_type": "stream",
     "text": [
      "Model: \"sequential\"\n",
      "_________________________________________________________________\n",
      "Layer (type)                 Output Shape              Param #   \n",
      "=================================================================\n",
      "dense (Dense)                (None, 99)                77715     \n",
      "_________________________________________________________________\n",
      "dense_1 (Dense)              (None, 99)                9900      \n",
      "_________________________________________________________________\n",
      "dense_2 (Dense)              (None, 10)                1000      \n",
      "=================================================================\n",
      "Total params: 88,615\n",
      "Trainable params: 88,615\n",
      "Non-trainable params: 0\n",
      "_________________________________________________________________\n"
     ]
    }
   ],
   "source": [
    "model.summary()"
   ]
  },
  {
   "cell_type": "markdown",
   "metadata": {},
   "source": [
    "## 訓練"
   ]
  },
  {
   "cell_type": "code",
   "execution_count": 23,
   "metadata": {},
   "outputs": [],
   "source": [
    "result = model.predict_classes(x_test)"
   ]
  },
  {
   "cell_type": "code",
   "execution_count": 24,
   "metadata": {},
   "outputs": [
    {
     "name": "stdout",
     "output_type": "stream",
     "text": [
      "Train on 60000 samples\n",
      "Epoch 1/30\n",
      "60000/60000 [==============================] - 3s 55us/sample - loss: 0.0656 - accuracy: 0.5391\n",
      "Epoch 2/30\n",
      "60000/60000 [==============================] - 3s 46us/sample - loss: 0.0413 - accuracy: 0.7165\n",
      "Epoch 3/30\n",
      "60000/60000 [==============================] - 3s 51us/sample - loss: 0.0343 - accuracy: 0.7789\n",
      "Epoch 4/30\n",
      "60000/60000 [==============================] - 3s 51us/sample - loss: 0.0305 - accuracy: 0.8019\n",
      "Epoch 5/30\n",
      "60000/60000 [==============================] - 3s 51us/sample - loss: 0.0282 - accuracy: 0.8148\n",
      "Epoch 6/30\n",
      "60000/60000 [==============================] - 3s 51us/sample - loss: 0.0267 - accuracy: 0.8231\n",
      "Epoch 7/30\n",
      "60000/60000 [==============================] - 3s 51us/sample - loss: 0.0256 - accuracy: 0.8293\n",
      "Epoch 8/30\n",
      "60000/60000 [==============================] - 3s 51us/sample - loss: 0.0248 - accuracy: 0.8336\n",
      "Epoch 9/30\n",
      "60000/60000 [==============================] - 3s 51us/sample - loss: 0.0242 - accuracy: 0.8363\n",
      "Epoch 10/30\n",
      "60000/60000 [==============================] - 3s 51us/sample - loss: 0.0237 - accuracy: 0.8398\n",
      "Epoch 11/30\n",
      "60000/60000 [==============================] - 3s 51us/sample - loss: 0.0232 - accuracy: 0.8440\n",
      "Epoch 12/30\n",
      "60000/60000 [==============================] - 3s 51us/sample - loss: 0.0228 - accuracy: 0.8465\n",
      "Epoch 13/30\n",
      "60000/60000 [==============================] - 3s 48us/sample - loss: 0.0225 - accuracy: 0.8480\n",
      "Epoch 14/30\n",
      "60000/60000 [==============================] - 3s 50us/sample - loss: 0.0222 - accuracy: 0.8503\n",
      "Epoch 15/30\n",
      "60000/60000 [==============================] - 3s 51us/sample - loss: 0.0219 - accuracy: 0.8530\n",
      "Epoch 16/30\n",
      "60000/60000 [==============================] - 3s 50us/sample - loss: 0.0216 - accuracy: 0.8539\n",
      "Epoch 17/30\n",
      "60000/60000 [==============================] - 3s 50us/sample - loss: 0.0214 - accuracy: 0.8551\n",
      "Epoch 18/30\n",
      "60000/60000 [==============================] - 3s 49us/sample - loss: 0.0211 - accuracy: 0.8585\n",
      "Epoch 19/30\n",
      "60000/60000 [==============================] - 3s 51us/sample - loss: 0.0209 - accuracy: 0.8589\n",
      "Epoch 20/30\n",
      "60000/60000 [==============================] - 3s 50us/sample - loss: 0.0207 - accuracy: 0.8602\n",
      "Epoch 21/30\n",
      "60000/60000 [==============================] - 3s 49us/sample - loss: 0.0205 - accuracy: 0.8619\n",
      "Epoch 22/30\n",
      "60000/60000 [==============================] - 3s 49us/sample - loss: 0.0203 - accuracy: 0.8626\n",
      "Epoch 23/30\n",
      "60000/60000 [==============================] - 3s 49us/sample - loss: 0.0202 - accuracy: 0.8638\n",
      "Epoch 24/30\n",
      "60000/60000 [==============================] - 3s 49us/sample - loss: 0.0200 - accuracy: 0.8655\n",
      "Epoch 25/30\n",
      "60000/60000 [==============================] - 3s 48us/sample - loss: 0.0198 - accuracy: 0.8667\n",
      "Epoch 26/30\n",
      "60000/60000 [==============================] - 3s 49us/sample - loss: 0.0197 - accuracy: 0.8674\n",
      "Epoch 27/30\n",
      "60000/60000 [==============================] - 3s 49us/sample - loss: 0.0195 - accuracy: 0.8686\n",
      "Epoch 28/30\n",
      "60000/60000 [==============================] - 3s 49us/sample - loss: 0.0194 - accuracy: 0.8686\n",
      "Epoch 29/30\n",
      "60000/60000 [==============================] - 3s 48us/sample - loss: 0.0193 - accuracy: 0.8696\n",
      "Epoch 30/30\n",
      "60000/60000 [==============================] - 3s 48us/sample - loss: 0.0192 - accuracy: 0.8713\n"
     ]
    },
    {
     "data": {
      "text/plain": [
       "<tensorflow.python.keras.callbacks.History at 0x1831076a470>"
      ]
     },
     "execution_count": 24,
     "metadata": {},
     "output_type": "execute_result"
    }
   ],
   "source": [
    "model.fit(x_train, y_train, batch_size = 100, epochs = 30) "
   ]
  },
  {
   "cell_type": "markdown",
   "metadata": {},
   "source": [
    "## 訓練成果"
   ]
  },
  {
   "cell_type": "code",
   "execution_count": 25,
   "metadata": {},
   "outputs": [],
   "source": [
    "result = model.predict_classes(x_test)"
   ]
  },
  {
   "cell_type": "code",
   "execution_count": 26,
   "metadata": {},
   "outputs": [
    {
     "name": "stdout",
     "output_type": "stream",
     "text": [
      "神經網路預測是: Dress\n"
     ]
    },
    {
     "data": {
      "text/plain": [
       "<matplotlib.image.AxesImage at 0x1832e31a1d0>"
      ]
     },
     "execution_count": 26,
     "metadata": {},
     "output_type": "execute_result"
    },
    {
     "data": {
      "image/png": "[encoded data removed]",
      "text/plain": [
       "<Figure size 432x288 with 1 Axes>"
      ]
     },
     "metadata": {
      "needs_background": "light"
     },
     "output_type": "display_data"
    }
   ],
   "source": [
    "n = 100\n",
    "\n",
    "print(\"神經網路預測是:\", class_names[result[n]])\n",
    "plt.imshow(x_test[n].reshape(28,28) , cmap = 'Greys')"
   ]
  },
  {
   "cell_type": "code",
   "execution_count": null,
   "metadata": {},
   "outputs": [],
   "source": []
  },
  {
   "cell_type": "code",
   "execution_count": null,
   "metadata": {},
   "outputs": [],
   "source": []
  },
  {
   "cell_type": "code",
   "execution_count": null,
   "metadata": {},
   "outputs": [],
   "source": []
  },
  {
   "cell_type": "code",
   "execution_count": null,
   "metadata": {},
   "outputs": [],
   "source": []
  }
 ],
 "metadata": {
  "kernelspec": {
   "display_name": "Python 3",
   "language": "python",
   "name": "python3"
  },
  "language_info": {
   "codemirror_mode": {
    "name": "ipython",
    "version": 3
   },
   "file_extension": ".py",
   "mimetype": "text/x-python",
   "name": "python",
   "nbconvert_exporter": "python",
   "pygments_lexer": "ipython3",
   "version": "3.7.3"
  }
 },
 "nbformat": 4,
 "nbformat_minor": 2
}
